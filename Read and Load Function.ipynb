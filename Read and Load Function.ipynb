{
 "cells": [
  {
   "cell_type": "markdown",
   "metadata": {
    "application/vnd.databricks.v1+cell": {
     "cellMetadata": {},
     "inputWidgets": {},
     "nuid": "ec894b2c-2fd7-4259-b94d-d730d4733d76",
     "showTitle": false,
     "title": ""
    }
   },
   "source": [
    "# 3 By using Read and Load function"
   ]
  },
  {
   "cell_type": "code",
   "execution_count": 0,
   "metadata": {
    "application/vnd.databricks.v1+cell": {
     "cellMetadata": {
      "byteLimit": 2048000,
      "rowLimit": 10000
     },
     "inputWidgets": {},
     "nuid": "dffc4530-ab0b-4b4b-a795-bd0abea4a93d",
     "showTitle": false,
     "title": ""
    }
   },
   "outputs": [],
   "source": [
    "from pyspark.sql import SparkSession"
   ]
  },
  {
   "cell_type": "code",
   "execution_count": 0,
   "metadata": {
    "application/vnd.databricks.v1+cell": {
     "cellMetadata": {
      "byteLimit": 2048000,
      "rowLimit": 10000
     },
     "inputWidgets": {},
     "nuid": "64a03496-1f2b-4a41-97b9-31c00e552c33",
     "showTitle": false,
     "title": ""
    }
   },
   "outputs": [
    {
     "output_type": "stream",
     "name": "stdout",
     "output_type": "stream",
     "text": [
      "+---+-----+-----+---------+-----+\n|_c0|   TV|Radio|Newspaper|Sales|\n+---+-----+-----+---------+-----+\n|  1|230.1| 37.8|     69.2| 22.1|\n|  2| 44.5| 39.3|     45.1| 10.4|\n|  3| 17.2| 45.9|     69.3|  9.3|\n|  4|151.5| 41.3|     58.5| 18.5|\n|  5|180.8| 10.8|     58.4| 12.9|\n|  6|  8.7| 48.9|     75.0|  7.2|\n|  7| 57.5| 32.8|     23.5| 11.8|\n|  8|120.2| 19.6|     11.6| 13.2|\n|  9|  8.6|  2.1|      1.0|  4.8|\n| 10|199.8|  2.6|     21.2| 10.6|\n| 11| 66.1|  5.8|     24.2|  8.6|\n| 12|214.7| 24.0|      4.0| 17.4|\n| 13| 23.8| 35.1|     65.9|  9.2|\n| 14| 97.5|  7.6|      7.2|  9.7|\n| 15|204.1| 32.9|     46.0| 19.0|\n| 16|195.4| 47.7|     52.9| 22.4|\n| 17| 67.8| 36.6|    114.0| 12.5|\n| 18|281.4| 39.6|     55.8| 24.4|\n| 19| 69.2| 20.5|     18.3| 11.3|\n| 20|147.3| 23.9|     19.1| 14.6|\n+---+-----+-----+---------+-----+\nonly showing top 20 rows\n\nroot\n |-- _c0: integer (nullable = true)\n |-- TV: double (nullable = true)\n |-- Radio: double (nullable = true)\n |-- Newspaper: double (nullable = true)\n |-- Sales: double (nullable = true)\n\n"
     ]
    }
   ],
   "source": [
    "spark = SparkSession \\\n",
    "    .builder \\\n",
    "    .appName(\"Python spark create rdd example\") \\\n",
    "    .config(\"spark.some.config.option\", \"some-value\") \\\n",
    "    .getOrCreate()\n",
    "\n",
    "df = spark.read.format('com.databricks.spark.csv').\\\n",
    "    options(header ='true',  inferschema='true').\\\n",
    "        load(\"/FileStore/tables/Advertising/Advertising-2.csv\", header=True)\n",
    "\n",
    "df.show()\n",
    "df.printSchema()\n",
    "\n",
    "\n"
   ]
  }
 ],
 "metadata": {
  "application/vnd.databricks.v1+notebook": {
   "dashboards": [],
   "environmentMetadata": null,
   "language": "python",
   "notebookMetadata": {
    "pythonIndentUnit": 4
   },
   "notebookName": "Read and Load Function",
   "widgets": {}
  }
 },
 "nbformat": 4,
 "nbformat_minor": 0
}
